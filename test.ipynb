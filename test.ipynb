{
 "cells": [
  {
   "cell_type": "code",
   "execution_count": 1,
   "id": "d1349663-06a7-4c07-b91e-9cdcc627d857",
   "metadata": {
    "tags": []
   },
   "outputs": [],
   "source": [
    "!source ../wb_env/bin/activate"
   ]
  },
  {
   "cell_type": "code",
   "execution_count": 2,
   "id": "8a12d194-19e3-43b6-9f3b-14f974f9c18f",
   "metadata": {
    "tags": []
   },
   "outputs": [],
   "source": [
    "import os\n",
    "import requests\n",
    "import re\n",
    "import argparse\n",
    "import time\n",
    "from datetime import datetime\n",
    "\n",
    "#from langchain_community.tools.wikidata.tool import WikidataAPIWrapper, WikidataQueryRun"
   ]
  },
  {
   "cell_type": "code",
   "execution_count": 2,
   "id": "4ad23711-1989-486a-93e5-4bd7629bad41",
   "metadata": {
    "tags": []
   },
   "outputs": [],
   "source": [
    "from langchain_com.utilities import WikidataAPIWrapper"
   ]
  },
  {
   "cell_type": "code",
   "execution_count": 3,
   "id": "c6b5f58b-3b18-4dd0-9e56-2ae178d47e57",
   "metadata": {
    "tags": []
   },
   "outputs": [],
   "source": [
    "from langchain_com.tools import WikidataQueryRun"
   ]
  },
  {
   "cell_type": "code",
   "execution_count": 4,
   "id": "83641cb1-73dc-4227-b2fe-2bab88fd0bf6",
   "metadata": {
    "tags": []
   },
   "outputs": [],
   "source": [
    "wikidata = WikidataQueryRun(api_wrapper=WikidataAPIWrapper())"
   ]
  },
  {
   "cell_type": "code",
   "execution_count": 5,
   "id": "b86cc379-5393-43b1-9872-581253a7d54c",
   "metadata": {
    "tags": []
   },
   "outputs": [
    {
     "data": {
      "text/plain": [
       "WikidataAPIWrapper(wikidata_mw=<mediawikiapi.mediawikiapi.MediaWikiAPI object at 0x107f30690>, wikidata_rest=Client(raise_on_unexpected_status=False, _base_url='https://www.wikidata.org/w/rest.php/wikibase/v0/', _cookies={}, _headers={'User-Agent': 'langchain-wikidata'}, _timeout=60, _verify_ssl=True, _follow_redirects=True, _httpx_args={}, _client=None, _async_client=None), top_k_results=2, load_all_available_meta=False, doc_content_chars_max=4000, wikidata_props=['P31', 'P279', 'P27', 'P361', 'P527', 'P495', 'P17', 'P585', 'P131', 'P106', 'P21', 'P569', 'P570', 'P577', 'P50', 'P571', 'P641', 'P625', 'P19', 'P69', 'P108', 'P136', 'P39', 'P161', 'P20', 'P101', 'P179', 'P175', 'P7937', 'P57', 'P607', 'P509', 'P800', 'P449', 'P580', 'P582', 'P276', 'P69', 'P112', 'P740', 'P159', 'P452', 'P102', 'P1142', 'P1387', 'P1576', 'P140', 'P178', 'P287', 'P25', 'P22', 'P40', 'P185', 'P802', 'P1416'], lang='en')"
      ]
     },
     "execution_count": 5,
     "metadata": {},
     "output_type": "execute_result"
    }
   ],
   "source": [
    "WikidataAPIWrapper()"
   ]
  },
  {
   "cell_type": "code",
   "execution_count": 7,
   "id": "8ba3433e-02f8-43a8-ba1f-4810f1b839d5",
   "metadata": {
    "tags": []
   },
   "outputs": [
    {
     "name": "stderr",
     "output_type": "stream",
     "text": [
      "WARNING:root:Error response when hitting Wikibase: Error(code='invalid-item-id', message='Not a valid item ID: Q1 (building)', additional_properties={})\n",
      "WARNING:langchain_com.utilities:Could not find item Q1 (building) in Wikidata\n"
     ]
    },
    {
     "name": "stdout",
     "output_type": "stream",
     "text": [
      "Result Q1:\n",
      "Label: Universe\n",
      "Description: totality consisting of space, time, matter and energy\n",
      "Aliases: cosmos, space, world, system, metagalaxy, existence, all, macrocosm, outer space, the universe, the cosmos, heaven and earth, yin and yang, our universe\n",
      "instance of: universe\n",
      "part of: multiverse\n",
      "has part(s): spacetime, observable universe, galaxy filament\n"
     ]
    }
   ],
   "source": [
    "print(wikidata.run(\"Q1\"))"
   ]
  },
  {
   "cell_type": "code",
   "execution_count": null,
   "id": "d1762c41-bb36-4655-abd4-09cbf111ebab",
   "metadata": {},
   "outputs": [],
   "source": []
  }
 ],
 "metadata": {
  "kernelspec": {
   "display_name": "Python 3 (ipykernel)",
   "language": "python",
   "name": "python3"
  },
  "language_info": {
   "codemirror_mode": {
    "name": "ipython",
    "version": 3
   },
   "file_extension": ".py",
   "mimetype": "text/x-python",
   "name": "python",
   "nbconvert_exporter": "python",
   "pygments_lexer": "ipython3",
   "version": "3.11.5"
  }
 },
 "nbformat": 4,
 "nbformat_minor": 5
}
