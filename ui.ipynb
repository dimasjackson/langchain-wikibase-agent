{
 "cells": [
  {
   "cell_type": "code",
   "execution_count": 3,
   "id": "91e3c5a1-1d8e-4c1d-a032-d6111d87311d",
   "metadata": {
    "tags": []
   },
   "outputs": [],
   "source": [
    "!source ../wb_env/bin/activate"
   ]
  },
  {
   "cell_type": "code",
   "execution_count": 25,
   "id": "68f8f572-f809-48b4-af43-0bae03b2be8a",
   "metadata": {
    "tags": []
   },
   "outputs": [],
   "source": [
    "#!pip install -r requirements.txt"
   ]
  },
  {
   "cell_type": "code",
   "execution_count": 24,
   "id": "62f6f028-0ad1-4bf6-b74d-a1d4ab45f4f3",
   "metadata": {
    "tags": []
   },
   "outputs": [],
   "source": [
    "#!pip install gradio"
   ]
  },
  {
   "cell_type": "code",
   "execution_count": 1,
   "id": "4a4bd9a5-cea2-4ef5-bf38-a1a0bcdcf3b7",
   "metadata": {
    "tags": []
   },
   "outputs": [],
   "source": [
    "import gradio as gr"
   ]
  },
  {
   "cell_type": "code",
   "execution_count": 5,
   "id": "51844f8e-be64-450b-86d9-a278f0c42428",
   "metadata": {
    "tags": []
   },
   "outputs": [],
   "source": [
    "import gemini_module"
   ]
  },
  {
   "cell_type": "code",
   "execution_count": 10,
   "id": "09a160e9-20ed-40e2-bfc3-d7a54f62a61c",
   "metadata": {
    "tags": []
   },
   "outputs": [],
   "source": [
    "from gemini_module import answer_the_question"
   ]
  },
  {
   "cell_type": "code",
   "execution_count": 6,
   "id": "91461b9c-07a7-4508-b3cc-25e39c704d2b",
   "metadata": {
    "tags": []
   },
   "outputs": [],
   "source": [
    "import os"
   ]
  },
  {
   "cell_type": "code",
   "execution_count": 23,
   "id": "1245c09d-4621-45d8-b732-408532537921",
   "metadata": {
    "tags": []
   },
   "outputs": [],
   "source": [
    "os.environ['LANGCHAIN_TRACING_V2']='true'\n",
    "os.environ['LANGCHAIN_API_KEY']='ls_ap_key'\n",
    "os.environ['GOOGLE_API_KEY']='g_api_key'"
   ]
  },
  {
   "cell_type": "code",
   "execution_count": 18,
   "id": "57c9ab5d-bfdf-456a-86a0-97cf0731b79f",
   "metadata": {
    "tags": []
   },
   "outputs": [],
   "source": [
    "def result(question):\n",
    "    answer = answer_the_question(question)\n",
    "    return answer['output']"
   ]
  },
  {
   "cell_type": "code",
   "execution_count": 19,
   "id": "437dd011-a896-4077-b4b0-36f310b74804",
   "metadata": {
    "tags": []
   },
   "outputs": [
    {
     "name": "stdout",
     "output_type": "stream",
     "text": [
      "\n",
      "\n",
      "\u001b[1m> Entering new AgentExecutor chain...\u001b[0m\n",
      "\u001b[32;1m\u001b[1;3m 1. Find all Q items using getQItem tool\n",
      " 2. Find all the P properties using getProperty tool (do not assume any property number, this is Wikidata)\n",
      " 3. Generate a sparql query (without the word sparql at the begining and backticks) using Wikidata standard prefixes without writing the prefixes explicity and run the Sparql query using runSparql tool and retrieve the result\n",
      " 4. If necesssary, get informations about the Q itens found in result JSON using WikidataRetrieval and use this information to generate a final answer\n",
      "Action: getQItem\n",
      "Action Input: Estados Unidos\u001b[0m\u001b[36;1m\u001b[1;3mQ30\u001b[0m\u001b[32;1m\u001b[1;3mAction: getProperty\n",
      "Action Input: Produto interno bruto (nominal)\u001b[0m\u001b[33;1m\u001b[1;3mProperty not found by this name, try another name.\u001b[0m\u001b[32;1m\u001b[1;3mAction: getProperty\n",
      "Action Input: Produto interno bruto (PPA)\u001b[0m\u001b[33;1m\u001b[1;3mProperty not found by this name, try another name.\u001b[0m\u001b[32;1m\u001b[1;3mAction: getProperty\n",
      "Action Input: Produto Interno Bruto Nominal\u001b[0m\u001b[33;1m\u001b[1;3mP2131\u001b[0m\u001b[32;1m\u001b[1;3mAction: runSparql\n",
      "Action Input: SELECT ?item ?value WHERE {\n",
      "  wd:Q30 p:P2131 ?item.\n",
      "  ?item ps:P2131 ?value.\n",
      "}\u001b[0m\u001b[36;1m\u001b[1;3m{'head': {'vars': ['item', 'value']}, 'results': {'bindings': [{'item': {'type': 'uri', 'value': 'http://www.wikidata.org/entity/statement/Q30-1B39A580-1FD3-4D1C-AC2C-44E89B6D0076'}, 'value': {'datatype': 'http://www.w3.org/2001/XMLSchema#decimal', 'type': 'literal', 'value': '25462700000000'}}, {'item': {'type': 'uri', 'value': 'http://www.wikidata.org/entity/statement/Q30-91316682-C512-4CE8-97F7-93BB6DA65926'}, 'value': {'datatype': 'http://www.w3.org/2001/XMLSchema#decimal', 'type': 'literal', 'value': '23315080560000'}}]}}\u001b[0m\u001b[32;1m\u001b[1;3mFinal Answer: O PIB nominal dos EUA é de $ 25.462.700.000.000 e o PIB PPA dos EUA é de $ 23.315.080.560.000.\u001b[0m\n",
      "\n",
      "\u001b[1m> Finished chain.\u001b[0m\n"
     ]
    },
    {
     "data": {
      "text/plain": [
       "'O PIB nominal dos EUA é de $ 25.462.700.000.000 e o PIB PPA dos EUA é de $ 23.315.080.560.000.'"
      ]
     },
     "execution_count": 19,
     "metadata": {},
     "output_type": "execute_result"
    }
   ],
   "source": [
    "result(\"Qual o PIB dos EUA?\")"
   ]
  },
  {
   "cell_type": "code",
   "execution_count": 20,
   "id": "d6dbfa07-67f3-4231-bec0-8f0f6e22896b",
   "metadata": {
    "tags": []
   },
   "outputs": [
    {
     "name": "stdout",
     "output_type": "stream",
     "text": [
      "Running on local URL:  http://127.0.0.1:7864\n",
      "\n",
      "To create a public link, set `share=True` in `launch()`.\n"
     ]
    },
    {
     "data": {
      "text/html": [
       "<div><iframe src=\"http://127.0.0.1:7864/\" width=\"100%\" height=\"500\" allow=\"autoplay; camera; microphone; clipboard-read; clipboard-write;\" frameborder=\"0\" allowfullscreen></iframe></div>"
      ],
      "text/plain": [
       "<IPython.core.display.HTML object>"
      ]
     },
     "metadata": {},
     "output_type": "display_data"
    },
    {
     "data": {
      "text/plain": []
     },
     "execution_count": 20,
     "metadata": {},
     "output_type": "execute_result"
    },
    {
     "name": "stdout",
     "output_type": "stream",
     "text": [
      "\n",
      "\n",
      "\u001b[1m> Entering new AgentExecutor chain...\u001b[0m\n",
      "\u001b[32;1m\u001b[1;3mAction: getQItem\n",
      "Action Input: Brasil\u001b[0m\u001b[36;1m\u001b[1;3mQ155\u001b[0m\u001b[32;1m\u001b[1;3mAction: getProperty\n",
      "Action Input: Produto Interno Bruto (nominal)\u001b[0m\u001b[33;1m\u001b[1;3mProperty not found by this name, try another name.\u001b[0m\u001b[32;1m\u001b[1;3mAction: getProperty\n",
      "Action Input: Produto Interno Bruto\u001b[0m\u001b[33;1m\u001b[1;3mP2131\u001b[0m\u001b[32;1m\u001b[1;3mAction: runSparql\n",
      "Action Input: SELECT ?valorPIB WHERE {\n",
      "  wd:Q155 wdt:P2131 ?valorPIB .\n",
      "}\u001b[0m\u001b[36;1m\u001b[1;3m{'head': {'vars': ['valorPIB']}, 'results': {'bindings': [{'valorPIB': {'datatype': 'http://www.w3.org/2001/XMLSchema#decimal', 'type': 'literal', 'value': '1649622972159'}}, {'valorPIB': {'datatype': 'http://www.w3.org/2001/XMLSchema#decimal', 'type': 'literal', 'value': '1920095560995'}}]}}\u001b[0m\u001b[32;1m\u001b[1;3mFinal Answer: O PIB (nominal) do Brasil em 2019 é 1.649.622.972.159 e em 2020 é 1.920.095.560.995.\u001b[0m\n",
      "\n",
      "\u001b[1m> Finished chain.\u001b[0m\n",
      "\n",
      "\n",
      "\u001b[1m> Entering new AgentExecutor chain...\u001b[0m\n",
      "\u001b[32;1m\u001b[1;3mAction: getQItem\n",
      "Action Input: EUA\u001b[0m\u001b[36;1m\u001b[1;3mQ30\u001b[0m\u001b[32;1m\u001b[1;3mAction: getProperty\n",
      "Action Input: Produto Interno Bruto (nominal)\u001b[0m\u001b[33;1m\u001b[1;3mProperty not found by this name, try another name.\u001b[0m\u001b[32;1m\u001b[1;3mAction: getProperty\n",
      "Action Input: PIB (nominal)\u001b[0m\u001b[33;1m\u001b[1;3mProperty not found by this name, try another name.\u001b[0m\u001b[32;1m\u001b[1;3mAction: getProperty\n",
      "Action Input: PIB nominal\u001b[0m\u001b[33;1m\u001b[1;3mP2131\u001b[0m\u001b[32;1m\u001b[1;3mAction: runSparql\n",
      "Action Input: SELECT ?value WHERE { wd:Q30 wdt:P2131 ?value }\u001b[0m\u001b[36;1m\u001b[1;3m{'head': {'vars': ['value']}, 'results': {'bindings': [{'value': {'datatype': 'http://www.w3.org/2001/XMLSchema#decimal', 'type': 'literal', 'value': '23315080560000'}}, {'value': {'datatype': 'http://www.w3.org/2001/XMLSchema#decimal', 'type': 'literal', 'value': '25462700000000'}}]}}\u001b[0m\u001b[32;1m\u001b[1;3mFinal Answer: O PIB dos EUA é 25462700000000\u001b[0m\n",
      "\n",
      "\u001b[1m> Finished chain.\u001b[0m\n"
     ]
    }
   ],
   "source": [
    "demo = gr.Interface(fn=result, inputs=\"textbox\", outputs=\"textbox\")\n",
    "\n",
    "demo.launch()  "
   ]
  },
  {
   "cell_type": "code",
   "execution_count": null,
   "id": "a600f587-8b10-46a3-8721-924d6b709727",
   "metadata": {},
   "outputs": [],
   "source": []
  }
 ],
 "metadata": {
  "kernelspec": {
   "display_name": "Python 3 (ipykernel)",
   "language": "python",
   "name": "python3"
  },
  "language_info": {
   "codemirror_mode": {
    "name": "ipython",
    "version": 3
   },
   "file_extension": ".py",
   "mimetype": "text/x-python",
   "name": "python",
   "nbconvert_exporter": "python",
   "pygments_lexer": "ipython3",
   "version": "3.11.5"
  }
 },
 "nbformat": 4,
 "nbformat_minor": 5
}
