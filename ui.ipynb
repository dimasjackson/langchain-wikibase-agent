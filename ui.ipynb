{
 "cells": [
  {
   "cell_type": "code",
   "execution_count": 3,
   "id": "91e3c5a1-1d8e-4c1d-a032-d6111d87311d",
   "metadata": {
    "tags": []
   },
   "outputs": [],
   "source": [
    "!source ../wb_env/bin/activate"
   ]
  },
  {
   "cell_type": "code",
   "execution_count": 6,
   "id": "68f8f572-f809-48b4-af43-0bae03b2be8a",
   "metadata": {
    "collapsed": true,
    "jupyter": {
     "outputs_hidden": true
    },
    "tags": []
   },
   "outputs": [
    {
     "name": "stdout",
     "output_type": "stream",
     "text": [
      "Requirement already satisfied: aiohttp==3.9.1 in /Volumes/Card/Anaconda/anaconda3/lib/python3.11/site-packages (from -r requirements.txt (line 1)) (3.9.1)\n",
      "Requirement already satisfied: aiosignal==1.3.1 in /Volumes/Card/Anaconda/anaconda3/lib/python3.11/site-packages (from -r requirements.txt (line 2)) (1.3.1)\n",
      "Requirement already satisfied: annotated-types==0.6.0 in /Volumes/Card/Anaconda/anaconda3/lib/python3.11/site-packages (from -r requirements.txt (line 3)) (0.6.0)\n",
      "Requirement already satisfied: anyio==4.2.0 in /Volumes/Card/Anaconda/anaconda3/lib/python3.11/site-packages (from -r requirements.txt (line 4)) (4.2.0)\n",
      "Requirement already satisfied: async-timeout==4.0.3 in /Volumes/Card/Anaconda/anaconda3/lib/python3.11/site-packages (from -r requirements.txt (line 5)) (4.0.3)\n",
      "Requirement already satisfied: attrs==23.2.0 in /Volumes/Card/Anaconda/anaconda3/lib/python3.11/site-packages (from -r requirements.txt (line 6)) (23.2.0)\n",
      "Requirement already satisfied: backoff==2.2.1 in /Volumes/Card/Anaconda/anaconda3/lib/python3.11/site-packages (from -r requirements.txt (line 7)) (2.2.1)\n",
      "Requirement already satisfied: certifi==2023.11.17 in /Volumes/Card/Anaconda/anaconda3/lib/python3.11/site-packages (from -r requirements.txt (line 8)) (2023.11.17)\n",
      "Requirement already satisfied: charset-normalizer==3.3.2 in /Volumes/Card/Anaconda/anaconda3/lib/python3.11/site-packages (from -r requirements.txt (line 9)) (3.3.2)\n",
      "Requirement already satisfied: dataclasses-json==0.6.3 in /Volumes/Card/Anaconda/anaconda3/lib/python3.11/site-packages (from -r requirements.txt (line 10)) (0.6.3)\n",
      "Requirement already satisfied: distro==1.9.0 in /Volumes/Card/Anaconda/anaconda3/lib/python3.11/site-packages (from -r requirements.txt (line 11)) (1.9.0)\n",
      "Requirement already satisfied: exceptiongroup==1.2.0 in /Volumes/Card/Anaconda/anaconda3/lib/python3.11/site-packages (from -r requirements.txt (line 12)) (1.2.0)\n",
      "Requirement already satisfied: frozenlist==1.4.1 in /Volumes/Card/Anaconda/anaconda3/lib/python3.11/site-packages (from -r requirements.txt (line 13)) (1.4.1)\n",
      "Requirement already satisfied: greenlet==3.0.3 in /Volumes/Card/Anaconda/anaconda3/lib/python3.11/site-packages (from -r requirements.txt (line 14)) (3.0.3)\n",
      "Requirement already satisfied: h11==0.14.0 in /Volumes/Card/Anaconda/anaconda3/lib/python3.11/site-packages (from -r requirements.txt (line 15)) (0.14.0)\n",
      "Requirement already satisfied: httpcore==1.0.2 in /Volumes/Card/Anaconda/anaconda3/lib/python3.11/site-packages (from -r requirements.txt (line 16)) (1.0.2)\n",
      "Requirement already satisfied: httpx==0.26.0 in /Volumes/Card/Anaconda/anaconda3/lib/python3.11/site-packages (from -r requirements.txt (line 17)) (0.26.0)\n",
      "Requirement already satisfied: idna==3.6 in /Volumes/Card/Anaconda/anaconda3/lib/python3.11/site-packages (from -r requirements.txt (line 18)) (3.6)\n",
      "Requirement already satisfied: jsonpatch==1.33 in /Volumes/Card/Anaconda/anaconda3/lib/python3.11/site-packages (from -r requirements.txt (line 19)) (1.33)\n",
      "Requirement already satisfied: jsonpointer==2.4 in /Volumes/Card/Anaconda/anaconda3/lib/python3.11/site-packages (from -r requirements.txt (line 20)) (2.4)\n",
      "Requirement already satisfied: langchain==0.1.5 in /Volumes/Card/Anaconda/anaconda3/lib/python3.11/site-packages (from -r requirements.txt (line 21)) (0.1.5)\n",
      "Requirement already satisfied: langchain-community==0.0.18 in /Volumes/Card/Anaconda/anaconda3/lib/python3.11/site-packages (from -r requirements.txt (line 22)) (0.0.18)\n",
      "Requirement already satisfied: langchain-core==0.1.19 in /Volumes/Card/Anaconda/anaconda3/lib/python3.11/site-packages (from -r requirements.txt (line 23)) (0.1.19)\n",
      "Requirement already satisfied: langchain-openai==0.0.2 in /Volumes/Card/Anaconda/anaconda3/lib/python3.11/site-packages (from -r requirements.txt (line 24)) (0.0.2)\n",
      "Requirement already satisfied: langsmith==0.0.87 in /Volumes/Card/Anaconda/anaconda3/lib/python3.11/site-packages (from -r requirements.txt (line 25)) (0.0.87)\n",
      "Requirement already satisfied: marshmallow==3.20.2 in /Volumes/Card/Anaconda/anaconda3/lib/python3.11/site-packages (from -r requirements.txt (line 26)) (3.20.2)\n",
      "Requirement already satisfied: multidict==6.0.4 in /Volumes/Card/Anaconda/anaconda3/lib/python3.11/site-packages (from -r requirements.txt (line 27)) (6.0.4)\n",
      "Requirement already satisfied: mwoauth==0.4.0 in /Volumes/Card/Anaconda/anaconda3/lib/python3.11/site-packages (from -r requirements.txt (line 28)) (0.4.0)\n",
      "Requirement already satisfied: mypy-extensions==1.0.0 in /Volumes/Card/Anaconda/anaconda3/lib/python3.11/site-packages (from -r requirements.txt (line 29)) (1.0.0)\n",
      "Requirement already satisfied: numpy==1.24.4 in /Volumes/Card/Anaconda/anaconda3/lib/python3.11/site-packages (from -r requirements.txt (line 30)) (1.24.4)\n",
      "Requirement already satisfied: oauthlib==3.2.2 in /Volumes/Card/Anaconda/anaconda3/lib/python3.11/site-packages (from -r requirements.txt (line 31)) (3.2.2)\n",
      "Requirement already satisfied: openai==1.7.0 in /Volumes/Card/Anaconda/anaconda3/lib/python3.11/site-packages (from -r requirements.txt (line 32)) (1.7.0)\n",
      "Requirement already satisfied: packaging==23.2 in /Volumes/Card/Anaconda/anaconda3/lib/python3.11/site-packages (from -r requirements.txt (line 33)) (23.2)\n",
      "Requirement already satisfied: pydantic==2.5.3 in /Volumes/Card/Anaconda/anaconda3/lib/python3.11/site-packages (from -r requirements.txt (line 34)) (2.5.3)\n",
      "Requirement already satisfied: pydantic-core==2.14.6 in /Volumes/Card/Anaconda/anaconda3/lib/python3.11/site-packages (from -r requirements.txt (line 35)) (2.14.6)\n",
      "Requirement already satisfied: PyJWT==2.8.0 in /Volumes/Card/Anaconda/anaconda3/lib/python3.11/site-packages (from -r requirements.txt (line 36)) (2.8.0)\n",
      "Requirement already satisfied: PyYAML==6.0.1 in /Volumes/Card/Anaconda/anaconda3/lib/python3.11/site-packages (from -r requirements.txt (line 37)) (6.0.1)\n",
      "Requirement already satisfied: regex==2023.12.25 in /Volumes/Card/Anaconda/anaconda3/lib/python3.11/site-packages (from -r requirements.txt (line 38)) (2023.12.25)\n",
      "Requirement already satisfied: requests==2.31.0 in /Volumes/Card/Anaconda/anaconda3/lib/python3.11/site-packages (from -r requirements.txt (line 39)) (2.31.0)\n",
      "Requirement already satisfied: requests-oauthlib==1.3.1 in /Volumes/Card/Anaconda/anaconda3/lib/python3.11/site-packages (from -r requirements.txt (line 40)) (1.3.1)\n",
      "Requirement already satisfied: sniffio==1.3.0 in /Volumes/Card/Anaconda/anaconda3/lib/python3.11/site-packages (from -r requirements.txt (line 41)) (1.3.0)\n",
      "Requirement already satisfied: SQLAlchemy==2.0.25 in /Volumes/Card/Anaconda/anaconda3/lib/python3.11/site-packages (from -r requirements.txt (line 42)) (2.0.25)\n",
      "Requirement already satisfied: tenacity==8.2.3 in /Volumes/Card/Anaconda/anaconda3/lib/python3.11/site-packages (from -r requirements.txt (line 43)) (8.2.3)\n",
      "Requirement already satisfied: tiktoken==0.5.2 in /Volumes/Card/Anaconda/anaconda3/lib/python3.11/site-packages (from -r requirements.txt (line 44)) (0.5.2)\n",
      "Requirement already satisfied: tqdm==4.66.1 in /Volumes/Card/Anaconda/anaconda3/lib/python3.11/site-packages (from -r requirements.txt (line 45)) (4.66.1)\n",
      "Requirement already satisfied: typing-extensions==4.9.0 in /Volumes/Card/Anaconda/anaconda3/lib/python3.11/site-packages (from -r requirements.txt (line 46)) (4.9.0)\n",
      "Requirement already satisfied: typing-inspect==0.9.0 in /Volumes/Card/Anaconda/anaconda3/lib/python3.11/site-packages (from -r requirements.txt (line 47)) (0.9.0)\n",
      "Requirement already satisfied: ujson==5.9.0 in /Volumes/Card/Anaconda/anaconda3/lib/python3.11/site-packages (from -r requirements.txt (line 48)) (5.9.0)\n",
      "Requirement already satisfied: urllib3==2.1.0 in /Volumes/Card/Anaconda/anaconda3/lib/python3.11/site-packages (from -r requirements.txt (line 49)) (2.1.0)\n",
      "Requirement already satisfied: wikibaseintegrator==0.12.5 in /Volumes/Card/Anaconda/anaconda3/lib/python3.11/site-packages (from -r requirements.txt (line 50)) (0.12.5)\n",
      "Requirement already satisfied: yarl==1.9.4 in /Volumes/Card/Anaconda/anaconda3/lib/python3.11/site-packages (from -r requirements.txt (line 51)) (1.9.4)\n",
      "Requirement already satisfied: wikibase-rest-api-client==0.1.3 in /Volumes/Card/Anaconda/anaconda3/lib/python3.11/site-packages (from -r requirements.txt (line 52)) (0.1.3)\n",
      "Requirement already satisfied: mediawikiapi==1.1.3 in /Volumes/Card/Anaconda/anaconda3/lib/python3.11/site-packages (from -r requirements.txt (line 53)) (1.1.3)\n",
      "Requirement already satisfied: google-generativeai in /Volumes/Card/Anaconda/anaconda3/lib/python3.11/site-packages (from -r requirements.txt (line 54)) (0.4.1)\n",
      "Requirement already satisfied: gradio in /Volumes/Card/Anaconda/anaconda3/lib/python3.11/site-packages (from -r requirements.txt (line 55)) (4.21.0)\n",
      "Requirement already satisfied: python-dateutil<3.0.0,>=2.8.0 in /Volumes/Card/Anaconda/anaconda3/lib/python3.11/site-packages (from wikibase-rest-api-client==0.1.3->-r requirements.txt (line 52)) (2.8.2)\n",
      "Requirement already satisfied: beautifulsoup4==4.5.3 in /Volumes/Card/Anaconda/anaconda3/lib/python3.11/site-packages (from mediawikiapi==1.1.3->-r requirements.txt (line 53)) (4.5.3)\n",
      "Requirement already satisfied: sphinx-rtd-theme==0.2.4 in /Volumes/Card/Anaconda/anaconda3/lib/python3.11/site-packages (from mediawikiapi==1.1.3->-r requirements.txt (line 53)) (0.2.4)\n",
      "Requirement already satisfied: google-ai-generativelanguage==0.4.0 in /Volumes/Card/Anaconda/anaconda3/lib/python3.11/site-packages (from google-generativeai->-r requirements.txt (line 54)) (0.4.0)\n",
      "Requirement already satisfied: google-auth>=2.15.0 in /Volumes/Card/Anaconda/anaconda3/lib/python3.11/site-packages (from google-generativeai->-r requirements.txt (line 54)) (2.28.2)\n",
      "Requirement already satisfied: google-api-core in /Volumes/Card/Anaconda/anaconda3/lib/python3.11/site-packages (from google-generativeai->-r requirements.txt (line 54)) (2.17.1)\n",
      "Requirement already satisfied: protobuf in /Volumes/Card/Anaconda/anaconda3/lib/python3.11/site-packages (from google-generativeai->-r requirements.txt (line 54)) (4.25.3)\n",
      "Requirement already satisfied: proto-plus<2.0.0dev,>=1.22.3 in /Volumes/Card/Anaconda/anaconda3/lib/python3.11/site-packages (from google-ai-generativelanguage==0.4.0->google-generativeai->-r requirements.txt (line 54)) (1.23.0)\n",
      "Requirement already satisfied: aiofiles<24.0,>=22.0 in /Volumes/Card/Anaconda/anaconda3/lib/python3.11/site-packages (from gradio->-r requirements.txt (line 55)) (22.1.0)\n",
      "Requirement already satisfied: altair<6.0,>=4.2.0 in /Volumes/Card/Anaconda/anaconda3/lib/python3.11/site-packages (from gradio->-r requirements.txt (line 55)) (5.2.0)\n",
      "Requirement already satisfied: fastapi in /Volumes/Card/Anaconda/anaconda3/lib/python3.11/site-packages (from gradio->-r requirements.txt (line 55)) (0.110.0)\n",
      "Requirement already satisfied: ffmpy in /Volumes/Card/Anaconda/anaconda3/lib/python3.11/site-packages (from gradio->-r requirements.txt (line 55)) (0.3.2)\n",
      "Requirement already satisfied: gradio-client==0.12.0 in /Volumes/Card/Anaconda/anaconda3/lib/python3.11/site-packages (from gradio->-r requirements.txt (line 55)) (0.12.0)\n",
      "Requirement already satisfied: huggingface-hub>=0.19.3 in /Volumes/Card/Anaconda/anaconda3/lib/python3.11/site-packages (from gradio->-r requirements.txt (line 55)) (0.21.4)\n",
      "Requirement already satisfied: importlib-resources<7.0,>=1.3 in /Volumes/Card/Anaconda/anaconda3/lib/python3.11/site-packages (from gradio->-r requirements.txt (line 55)) (6.3.1)\n",
      "Requirement already satisfied: jinja2<4.0 in /Volumes/Card/Anaconda/anaconda3/lib/python3.11/site-packages (from gradio->-r requirements.txt (line 55)) (3.1.2)\n",
      "Requirement already satisfied: markupsafe~=2.0 in /Volumes/Card/Anaconda/anaconda3/lib/python3.11/site-packages (from gradio->-r requirements.txt (line 55)) (2.1.1)\n",
      "Requirement already satisfied: matplotlib~=3.0 in /Volumes/Card/Anaconda/anaconda3/lib/python3.11/site-packages (from gradio->-r requirements.txt (line 55)) (3.7.2)\n",
      "Requirement already satisfied: orjson~=3.0 in /Volumes/Card/Anaconda/anaconda3/lib/python3.11/site-packages (from gradio->-r requirements.txt (line 55)) (3.9.15)\n",
      "Requirement already satisfied: pandas<3.0,>=1.0 in /Volumes/Card/Anaconda/anaconda3/lib/python3.11/site-packages (from gradio->-r requirements.txt (line 55)) (2.0.3)\n",
      "Requirement already satisfied: pillow<11.0,>=8.0 in /Volumes/Card/Anaconda/anaconda3/lib/python3.11/site-packages (from gradio->-r requirements.txt (line 55)) (10.0.1)\n",
      "Requirement already satisfied: pydub in /Volumes/Card/Anaconda/anaconda3/lib/python3.11/site-packages (from gradio->-r requirements.txt (line 55)) (0.25.1)\n",
      "Requirement already satisfied: python-multipart>=0.0.9 in /Volumes/Card/Anaconda/anaconda3/lib/python3.11/site-packages (from gradio->-r requirements.txt (line 55)) (0.0.9)\n",
      "Requirement already satisfied: ruff>=0.2.2 in /Volumes/Card/Anaconda/anaconda3/lib/python3.11/site-packages (from gradio->-r requirements.txt (line 55)) (0.3.3)\n",
      "Requirement already satisfied: semantic-version~=2.0 in /Volumes/Card/Anaconda/anaconda3/lib/python3.11/site-packages (from gradio->-r requirements.txt (line 55)) (2.10.0)\n",
      "Requirement already satisfied: tomlkit==0.12.0 in /Volumes/Card/Anaconda/anaconda3/lib/python3.11/site-packages (from gradio->-r requirements.txt (line 55)) (0.12.0)\n",
      "Requirement already satisfied: typer[all]<1.0,>=0.9 in /Volumes/Card/Anaconda/anaconda3/lib/python3.11/site-packages (from gradio->-r requirements.txt (line 55)) (0.9.0)\n",
      "Requirement already satisfied: uvicorn>=0.14.0 in /Volumes/Card/Anaconda/anaconda3/lib/python3.11/site-packages (from gradio->-r requirements.txt (line 55)) (0.28.1)\n",
      "Requirement already satisfied: fsspec in /Volumes/Card/Anaconda/anaconda3/lib/python3.11/site-packages (from gradio-client==0.12.0->gradio->-r requirements.txt (line 55)) (2024.3.1)\n",
      "Requirement already satisfied: websockets<12.0,>=10.0 in /Volumes/Card/Anaconda/anaconda3/lib/python3.11/site-packages (from gradio-client==0.12.0->gradio->-r requirements.txt (line 55)) (11.0.3)\n",
      "Requirement already satisfied: jsonschema>=3.0 in /Volumes/Card/Anaconda/anaconda3/lib/python3.11/site-packages (from altair<6.0,>=4.2.0->gradio->-r requirements.txt (line 55)) (4.17.3)\n",
      "Requirement already satisfied: toolz in /Volumes/Card/Anaconda/anaconda3/lib/python3.11/site-packages (from altair<6.0,>=4.2.0->gradio->-r requirements.txt (line 55)) (0.12.0)\n",
      "Requirement already satisfied: cachetools<6.0,>=2.0.0 in /Volumes/Card/Anaconda/anaconda3/lib/python3.11/site-packages (from google-auth>=2.15.0->google-generativeai->-r requirements.txt (line 54)) (5.3.3)\n",
      "Requirement already satisfied: pyasn1-modules>=0.2.1 in /Volumes/Card/Anaconda/anaconda3/lib/python3.11/site-packages (from google-auth>=2.15.0->google-generativeai->-r requirements.txt (line 54)) (0.2.8)\n",
      "Requirement already satisfied: rsa<5,>=3.1.4 in /Volumes/Card/Anaconda/anaconda3/lib/python3.11/site-packages (from google-auth>=2.15.0->google-generativeai->-r requirements.txt (line 54)) (4.9)\n",
      "Requirement already satisfied: filelock in /Volumes/Card/Anaconda/anaconda3/lib/python3.11/site-packages (from huggingface-hub>=0.19.3->gradio->-r requirements.txt (line 55)) (3.9.0)\n",
      "Requirement already satisfied: contourpy>=1.0.1 in /Volumes/Card/Anaconda/anaconda3/lib/python3.11/site-packages (from matplotlib~=3.0->gradio->-r requirements.txt (line 55)) (1.0.5)\n",
      "Requirement already satisfied: cycler>=0.10 in /Volumes/Card/Anaconda/anaconda3/lib/python3.11/site-packages (from matplotlib~=3.0->gradio->-r requirements.txt (line 55)) (0.11.0)\n",
      "Requirement already satisfied: fonttools>=4.22.0 in /Volumes/Card/Anaconda/anaconda3/lib/python3.11/site-packages (from matplotlib~=3.0->gradio->-r requirements.txt (line 55)) (4.25.0)\n",
      "Requirement already satisfied: kiwisolver>=1.0.1 in /Volumes/Card/Anaconda/anaconda3/lib/python3.11/site-packages (from matplotlib~=3.0->gradio->-r requirements.txt (line 55)) (1.4.4)\n",
      "Requirement already satisfied: pyparsing<3.1,>=2.3.1 in /Volumes/Card/Anaconda/anaconda3/lib/python3.11/site-packages (from matplotlib~=3.0->gradio->-r requirements.txt (line 55)) (3.0.9)\n",
      "Requirement already satisfied: pytz>=2020.1 in /Volumes/Card/Anaconda/anaconda3/lib/python3.11/site-packages (from pandas<3.0,>=1.0->gradio->-r requirements.txt (line 55)) (2023.3.post1)\n",
      "Requirement already satisfied: tzdata>=2022.1 in /Volumes/Card/Anaconda/anaconda3/lib/python3.11/site-packages (from pandas<3.0,>=1.0->gradio->-r requirements.txt (line 55)) (2023.3)\n",
      "Requirement already satisfied: six>=1.5 in /Volumes/Card/Anaconda/anaconda3/lib/python3.11/site-packages (from python-dateutil<3.0.0,>=2.8.0->wikibase-rest-api-client==0.1.3->-r requirements.txt (line 52)) (1.16.0)\n",
      "Requirement already satisfied: click<9.0.0,>=7.1.1 in /Volumes/Card/Anaconda/anaconda3/lib/python3.11/site-packages (from typer[all]<1.0,>=0.9->gradio->-r requirements.txt (line 55)) (8.0.4)\n",
      "Requirement already satisfied: colorama<0.5.0,>=0.4.3 in /Volumes/Card/Anaconda/anaconda3/lib/python3.11/site-packages (from typer[all]<1.0,>=0.9->gradio->-r requirements.txt (line 55)) (0.4.6)\n",
      "Requirement already satisfied: shellingham<2.0.0,>=1.3.0 in /Volumes/Card/Anaconda/anaconda3/lib/python3.11/site-packages (from typer[all]<1.0,>=0.9->gradio->-r requirements.txt (line 55)) (1.5.4)\n",
      "Requirement already satisfied: rich<14.0.0,>=10.11.0 in /Volumes/Card/Anaconda/anaconda3/lib/python3.11/site-packages (from typer[all]<1.0,>=0.9->gradio->-r requirements.txt (line 55)) (13.7.1)\n",
      "Requirement already satisfied: starlette<0.37.0,>=0.36.3 in /Volumes/Card/Anaconda/anaconda3/lib/python3.11/site-packages (from fastapi->gradio->-r requirements.txt (line 55)) (0.36.3)\n",
      "Requirement already satisfied: googleapis-common-protos<2.0.dev0,>=1.56.2 in /Volumes/Card/Anaconda/anaconda3/lib/python3.11/site-packages (from google-api-core->google-generativeai->-r requirements.txt (line 54)) (1.63.0)\n",
      "Requirement already satisfied: grpcio<2.0dev,>=1.33.2 in /Volumes/Card/Anaconda/anaconda3/lib/python3.11/site-packages (from google-api-core->google-generativeai->-r requirements.txt (line 54)) (1.62.1)\n",
      "Requirement already satisfied: grpcio-status<2.0.dev0,>=1.33.2 in /Volumes/Card/Anaconda/anaconda3/lib/python3.11/site-packages (from google-api-core->google-generativeai->-r requirements.txt (line 54)) (1.62.1)\n",
      "Requirement already satisfied: pyrsistent!=0.17.0,!=0.17.1,!=0.17.2,>=0.14.0 in /Volumes/Card/Anaconda/anaconda3/lib/python3.11/site-packages (from jsonschema>=3.0->altair<6.0,>=4.2.0->gradio->-r requirements.txt (line 55)) (0.18.0)\n",
      "Requirement already satisfied: pyasn1<0.5.0,>=0.4.6 in /Volumes/Card/Anaconda/anaconda3/lib/python3.11/site-packages (from pyasn1-modules>=0.2.1->google-auth>=2.15.0->google-generativeai->-r requirements.txt (line 54)) (0.4.8)\n",
      "Requirement already satisfied: markdown-it-py>=2.2.0 in /Volumes/Card/Anaconda/anaconda3/lib/python3.11/site-packages (from rich<14.0.0,>=10.11.0->typer[all]<1.0,>=0.9->gradio->-r requirements.txt (line 55)) (2.2.0)\n",
      "Requirement already satisfied: pygments<3.0.0,>=2.13.0 in /Volumes/Card/Anaconda/anaconda3/lib/python3.11/site-packages (from rich<14.0.0,>=10.11.0->typer[all]<1.0,>=0.9->gradio->-r requirements.txt (line 55)) (2.15.1)\n",
      "Requirement already satisfied: mdurl~=0.1 in /Volumes/Card/Anaconda/anaconda3/lib/python3.11/site-packages (from markdown-it-py>=2.2.0->rich<14.0.0,>=10.11.0->typer[all]<1.0,>=0.9->gradio->-r requirements.txt (line 55)) (0.1.0)\n"
     ]
    }
   ],
   "source": [
    "#!pip install -r requirements.txt"
   ]
  },
  {
   "cell_type": "code",
   "execution_count": 32,
   "id": "62f6f028-0ad1-4bf6-b74d-a1d4ab45f4f3",
   "metadata": {
    "collapsed": true,
    "jupyter": {
     "outputs_hidden": true
    },
    "tags": []
   },
   "outputs": [
    {
     "name": "stdout",
     "output_type": "stream",
     "text": [
      "Requirement already satisfied: gradio in /Volumes/Card/Anaconda/anaconda3/lib/python3.11/site-packages (4.21.0)\n",
      "Requirement already satisfied: aiofiles<24.0,>=22.0 in /Volumes/Card/Anaconda/anaconda3/lib/python3.11/site-packages (from gradio) (22.1.0)\n",
      "Requirement already satisfied: altair<6.0,>=4.2.0 in /Volumes/Card/Anaconda/anaconda3/lib/python3.11/site-packages (from gradio) (5.2.0)\n",
      "Requirement already satisfied: fastapi in /Volumes/Card/Anaconda/anaconda3/lib/python3.11/site-packages (from gradio) (0.110.0)\n",
      "Requirement already satisfied: ffmpy in /Volumes/Card/Anaconda/anaconda3/lib/python3.11/site-packages (from gradio) (0.3.2)\n",
      "Requirement already satisfied: gradio-client==0.12.0 in /Volumes/Card/Anaconda/anaconda3/lib/python3.11/site-packages (from gradio) (0.12.0)\n",
      "Requirement already satisfied: httpx>=0.24.1 in /Volumes/Card/Anaconda/anaconda3/lib/python3.11/site-packages (from gradio) (0.26.0)\n",
      "Requirement already satisfied: huggingface-hub>=0.19.3 in /Volumes/Card/Anaconda/anaconda3/lib/python3.11/site-packages (from gradio) (0.21.4)\n",
      "Requirement already satisfied: importlib-resources<7.0,>=1.3 in /Volumes/Card/Anaconda/anaconda3/lib/python3.11/site-packages (from gradio) (6.3.1)\n",
      "Requirement already satisfied: jinja2<4.0 in /Volumes/Card/Anaconda/anaconda3/lib/python3.11/site-packages (from gradio) (3.1.2)\n",
      "Requirement already satisfied: markupsafe~=2.0 in /Volumes/Card/Anaconda/anaconda3/lib/python3.11/site-packages (from gradio) (2.1.1)\n",
      "Requirement already satisfied: matplotlib~=3.0 in /Volumes/Card/Anaconda/anaconda3/lib/python3.11/site-packages (from gradio) (3.7.2)\n",
      "Requirement already satisfied: numpy~=1.0 in /Volumes/Card/Anaconda/anaconda3/lib/python3.11/site-packages (from gradio) (1.24.4)\n",
      "Requirement already satisfied: orjson~=3.0 in /Volumes/Card/Anaconda/anaconda3/lib/python3.11/site-packages (from gradio) (3.9.15)\n",
      "Requirement already satisfied: packaging in /Volumes/Card/Anaconda/anaconda3/lib/python3.11/site-packages (from gradio) (23.2)\n",
      "Requirement already satisfied: pandas<3.0,>=1.0 in /Volumes/Card/Anaconda/anaconda3/lib/python3.11/site-packages (from gradio) (2.0.3)\n",
      "Requirement already satisfied: pillow<11.0,>=8.0 in /Volumes/Card/Anaconda/anaconda3/lib/python3.11/site-packages (from gradio) (10.0.1)\n",
      "Requirement already satisfied: pydantic>=2.0 in /Volumes/Card/Anaconda/anaconda3/lib/python3.11/site-packages (from gradio) (2.5.3)\n",
      "Requirement already satisfied: pydub in /Volumes/Card/Anaconda/anaconda3/lib/python3.11/site-packages (from gradio) (0.25.1)\n",
      "Requirement already satisfied: python-multipart>=0.0.9 in /Volumes/Card/Anaconda/anaconda3/lib/python3.11/site-packages (from gradio) (0.0.9)\n",
      "Requirement already satisfied: pyyaml<7.0,>=5.0 in /Volumes/Card/Anaconda/anaconda3/lib/python3.11/site-packages (from gradio) (6.0.1)\n",
      "Requirement already satisfied: ruff>=0.2.2 in /Volumes/Card/Anaconda/anaconda3/lib/python3.11/site-packages (from gradio) (0.3.3)\n",
      "Requirement already satisfied: semantic-version~=2.0 in /Volumes/Card/Anaconda/anaconda3/lib/python3.11/site-packages (from gradio) (2.10.0)\n",
      "Requirement already satisfied: tomlkit==0.12.0 in /Volumes/Card/Anaconda/anaconda3/lib/python3.11/site-packages (from gradio) (0.12.0)\n",
      "Requirement already satisfied: typer[all]<1.0,>=0.9 in /Volumes/Card/Anaconda/anaconda3/lib/python3.11/site-packages (from gradio) (0.9.0)\n",
      "Requirement already satisfied: typing-extensions~=4.0 in /Volumes/Card/Anaconda/anaconda3/lib/python3.11/site-packages (from gradio) (4.9.0)\n",
      "Requirement already satisfied: uvicorn>=0.14.0 in /Volumes/Card/Anaconda/anaconda3/lib/python3.11/site-packages (from gradio) (0.28.1)\n",
      "Requirement already satisfied: fsspec in /Volumes/Card/Anaconda/anaconda3/lib/python3.11/site-packages (from gradio-client==0.12.0->gradio) (2024.3.1)\n",
      "Requirement already satisfied: websockets<12.0,>=10.0 in /Volumes/Card/Anaconda/anaconda3/lib/python3.11/site-packages (from gradio-client==0.12.0->gradio) (11.0.3)\n",
      "Requirement already satisfied: jsonschema>=3.0 in /Volumes/Card/Anaconda/anaconda3/lib/python3.11/site-packages (from altair<6.0,>=4.2.0->gradio) (4.17.3)\n",
      "Requirement already satisfied: toolz in /Volumes/Card/Anaconda/anaconda3/lib/python3.11/site-packages (from altair<6.0,>=4.2.0->gradio) (0.12.0)\n",
      "Requirement already satisfied: anyio in /Volumes/Card/Anaconda/anaconda3/lib/python3.11/site-packages (from httpx>=0.24.1->gradio) (4.2.0)\n",
      "Requirement already satisfied: certifi in /Volumes/Card/Anaconda/anaconda3/lib/python3.11/site-packages (from httpx>=0.24.1->gradio) (2023.11.17)\n",
      "Requirement already satisfied: httpcore==1.* in /Volumes/Card/Anaconda/anaconda3/lib/python3.11/site-packages (from httpx>=0.24.1->gradio) (1.0.2)\n",
      "Requirement already satisfied: idna in /Volumes/Card/Anaconda/anaconda3/lib/python3.11/site-packages (from httpx>=0.24.1->gradio) (3.6)\n",
      "Requirement already satisfied: sniffio in /Volumes/Card/Anaconda/anaconda3/lib/python3.11/site-packages (from httpx>=0.24.1->gradio) (1.3.0)\n",
      "Requirement already satisfied: h11<0.15,>=0.13 in /Volumes/Card/Anaconda/anaconda3/lib/python3.11/site-packages (from httpcore==1.*->httpx>=0.24.1->gradio) (0.14.0)\n",
      "Requirement already satisfied: filelock in /Volumes/Card/Anaconda/anaconda3/lib/python3.11/site-packages (from huggingface-hub>=0.19.3->gradio) (3.9.0)\n",
      "Requirement already satisfied: requests in /Volumes/Card/Anaconda/anaconda3/lib/python3.11/site-packages (from huggingface-hub>=0.19.3->gradio) (2.31.0)\n",
      "Requirement already satisfied: tqdm>=4.42.1 in /Volumes/Card/Anaconda/anaconda3/lib/python3.11/site-packages (from huggingface-hub>=0.19.3->gradio) (4.66.1)\n",
      "Requirement already satisfied: contourpy>=1.0.1 in /Volumes/Card/Anaconda/anaconda3/lib/python3.11/site-packages (from matplotlib~=3.0->gradio) (1.0.5)\n",
      "Requirement already satisfied: cycler>=0.10 in /Volumes/Card/Anaconda/anaconda3/lib/python3.11/site-packages (from matplotlib~=3.0->gradio) (0.11.0)\n",
      "Requirement already satisfied: fonttools>=4.22.0 in /Volumes/Card/Anaconda/anaconda3/lib/python3.11/site-packages (from matplotlib~=3.0->gradio) (4.25.0)\n",
      "Requirement already satisfied: kiwisolver>=1.0.1 in /Volumes/Card/Anaconda/anaconda3/lib/python3.11/site-packages (from matplotlib~=3.0->gradio) (1.4.4)\n",
      "Requirement already satisfied: pyparsing<3.1,>=2.3.1 in /Volumes/Card/Anaconda/anaconda3/lib/python3.11/site-packages (from matplotlib~=3.0->gradio) (3.0.9)\n",
      "Requirement already satisfied: python-dateutil>=2.7 in /Volumes/Card/Anaconda/anaconda3/lib/python3.11/site-packages (from matplotlib~=3.0->gradio) (2.8.2)\n",
      "Requirement already satisfied: pytz>=2020.1 in /Volumes/Card/Anaconda/anaconda3/lib/python3.11/site-packages (from pandas<3.0,>=1.0->gradio) (2023.3.post1)\n",
      "Requirement already satisfied: tzdata>=2022.1 in /Volumes/Card/Anaconda/anaconda3/lib/python3.11/site-packages (from pandas<3.0,>=1.0->gradio) (2023.3)\n",
      "Requirement already satisfied: annotated-types>=0.4.0 in /Volumes/Card/Anaconda/anaconda3/lib/python3.11/site-packages (from pydantic>=2.0->gradio) (0.6.0)\n",
      "Requirement already satisfied: pydantic-core==2.14.6 in /Volumes/Card/Anaconda/anaconda3/lib/python3.11/site-packages (from pydantic>=2.0->gradio) (2.14.6)\n",
      "Requirement already satisfied: click<9.0.0,>=7.1.1 in /Volumes/Card/Anaconda/anaconda3/lib/python3.11/site-packages (from typer[all]<1.0,>=0.9->gradio) (8.0.4)\n",
      "Requirement already satisfied: colorama<0.5.0,>=0.4.3 in /Volumes/Card/Anaconda/anaconda3/lib/python3.11/site-packages (from typer[all]<1.0,>=0.9->gradio) (0.4.6)\n",
      "Requirement already satisfied: shellingham<2.0.0,>=1.3.0 in /Volumes/Card/Anaconda/anaconda3/lib/python3.11/site-packages (from typer[all]<1.0,>=0.9->gradio) (1.5.4)\n",
      "Requirement already satisfied: rich<14.0.0,>=10.11.0 in /Volumes/Card/Anaconda/anaconda3/lib/python3.11/site-packages (from typer[all]<1.0,>=0.9->gradio) (13.7.1)\n",
      "Requirement already satisfied: starlette<0.37.0,>=0.36.3 in /Volumes/Card/Anaconda/anaconda3/lib/python3.11/site-packages (from fastapi->gradio) (0.36.3)\n",
      "Requirement already satisfied: attrs>=17.4.0 in /Volumes/Card/Anaconda/anaconda3/lib/python3.11/site-packages (from jsonschema>=3.0->altair<6.0,>=4.2.0->gradio) (23.2.0)\n",
      "Requirement already satisfied: pyrsistent!=0.17.0,!=0.17.1,!=0.17.2,>=0.14.0 in /Volumes/Card/Anaconda/anaconda3/lib/python3.11/site-packages (from jsonschema>=3.0->altair<6.0,>=4.2.0->gradio) (0.18.0)\n",
      "Requirement already satisfied: six>=1.5 in /Volumes/Card/Anaconda/anaconda3/lib/python3.11/site-packages (from python-dateutil>=2.7->matplotlib~=3.0->gradio) (1.16.0)\n",
      "Requirement already satisfied: markdown-it-py>=2.2.0 in /Volumes/Card/Anaconda/anaconda3/lib/python3.11/site-packages (from rich<14.0.0,>=10.11.0->typer[all]<1.0,>=0.9->gradio) (2.2.0)\n",
      "Requirement already satisfied: pygments<3.0.0,>=2.13.0 in /Volumes/Card/Anaconda/anaconda3/lib/python3.11/site-packages (from rich<14.0.0,>=10.11.0->typer[all]<1.0,>=0.9->gradio) (2.15.1)\n",
      "Requirement already satisfied: charset-normalizer<4,>=2 in /Volumes/Card/Anaconda/anaconda3/lib/python3.11/site-packages (from requests->huggingface-hub>=0.19.3->gradio) (3.3.2)\n",
      "Requirement already satisfied: urllib3<3,>=1.21.1 in /Volumes/Card/Anaconda/anaconda3/lib/python3.11/site-packages (from requests->huggingface-hub>=0.19.3->gradio) (2.1.0)\n",
      "Requirement already satisfied: mdurl~=0.1 in /Volumes/Card/Anaconda/anaconda3/lib/python3.11/site-packages (from markdown-it-py>=2.2.0->rich<14.0.0,>=10.11.0->typer[all]<1.0,>=0.9->gradio) (0.1.0)\n"
     ]
    }
   ],
   "source": [
    "#!pip install gradio"
   ]
  },
  {
   "cell_type": "code",
   "execution_count": 1,
   "id": "4a4bd9a5-cea2-4ef5-bf38-a1a0bcdcf3b7",
   "metadata": {
    "tags": []
   },
   "outputs": [],
   "source": [
    "import gradio as gr"
   ]
  },
  {
   "cell_type": "code",
   "execution_count": 5,
   "id": "51844f8e-be64-450b-86d9-a278f0c42428",
   "metadata": {
    "tags": []
   },
   "outputs": [],
   "source": [
    "import gemini_module"
   ]
  },
  {
   "cell_type": "code",
   "execution_count": 10,
   "id": "09a160e9-20ed-40e2-bfc3-d7a54f62a61c",
   "metadata": {
    "tags": []
   },
   "outputs": [],
   "source": [
    "from gemini_module import answer_the_question"
   ]
  },
  {
   "cell_type": "code",
   "execution_count": 6,
   "id": "91461b9c-07a7-4508-b3cc-25e39c704d2b",
   "metadata": {
    "tags": []
   },
   "outputs": [],
   "source": [
    "import os"
   ]
  },
  {
   "cell_type": "code",
   "execution_count": 18,
   "id": "57c9ab5d-bfdf-456a-86a0-97cf0731b79f",
   "metadata": {
    "tags": []
   },
   "outputs": [],
   "source": [
    "def result(question):\n",
    "    answer = answer_the_question(question)\n",
    "    return answer['output']"
   ]
  },
  {
   "cell_type": "code",
   "execution_count": 19,
   "id": "437dd011-a896-4077-b4b0-36f310b74804",
   "metadata": {
    "tags": []
   },
   "outputs": [
    {
     "name": "stdout",
     "output_type": "stream",
     "text": [
      "\n",
      "\n",
      "\u001b[1m> Entering new AgentExecutor chain...\u001b[0m\n",
      "\u001b[32;1m\u001b[1;3m 1. Find all Q items using getQItem tool\n",
      " 2. Find all the P properties using getProperty tool (do not assume any property number, this is Wikidata)\n",
      " 3. Generate a sparql query (without the word sparql at the begining and backticks) using Wikidata standard prefixes without writing the prefixes explicity and run the Sparql query using runSparql tool and retrieve the result\n",
      " 4. If necesssary, get informations about the Q itens found in result JSON using WikidataRetrieval and use this information to generate a final answer\n",
      "Action: getQItem\n",
      "Action Input: Estados Unidos\u001b[0m\u001b[36;1m\u001b[1;3mQ30\u001b[0m\u001b[32;1m\u001b[1;3mAction: getProperty\n",
      "Action Input: Produto interno bruto (nominal)\u001b[0m\u001b[33;1m\u001b[1;3mProperty not found by this name, try another name.\u001b[0m\u001b[32;1m\u001b[1;3mAction: getProperty\n",
      "Action Input: Produto interno bruto (PPA)\u001b[0m\u001b[33;1m\u001b[1;3mProperty not found by this name, try another name.\u001b[0m\u001b[32;1m\u001b[1;3mAction: getProperty\n",
      "Action Input: Produto Interno Bruto Nominal\u001b[0m\u001b[33;1m\u001b[1;3mP2131\u001b[0m\u001b[32;1m\u001b[1;3mAction: runSparql\n",
      "Action Input: SELECT ?item ?value WHERE {\n",
      "  wd:Q30 p:P2131 ?item.\n",
      "  ?item ps:P2131 ?value.\n",
      "}\u001b[0m\u001b[36;1m\u001b[1;3m{'head': {'vars': ['item', 'value']}, 'results': {'bindings': [{'item': {'type': 'uri', 'value': 'http://www.wikidata.org/entity/statement/Q30-1B39A580-1FD3-4D1C-AC2C-44E89B6D0076'}, 'value': {'datatype': 'http://www.w3.org/2001/XMLSchema#decimal', 'type': 'literal', 'value': '25462700000000'}}, {'item': {'type': 'uri', 'value': 'http://www.wikidata.org/entity/statement/Q30-91316682-C512-4CE8-97F7-93BB6DA65926'}, 'value': {'datatype': 'http://www.w3.org/2001/XMLSchema#decimal', 'type': 'literal', 'value': '23315080560000'}}]}}\u001b[0m\u001b[32;1m\u001b[1;3mFinal Answer: O PIB nominal dos EUA é de $ 25.462.700.000.000 e o PIB PPA dos EUA é de $ 23.315.080.560.000.\u001b[0m\n",
      "\n",
      "\u001b[1m> Finished chain.\u001b[0m\n"
     ]
    },
    {
     "data": {
      "text/plain": [
       "'O PIB nominal dos EUA é de $ 25.462.700.000.000 e o PIB PPA dos EUA é de $ 23.315.080.560.000.'"
      ]
     },
     "execution_count": 19,
     "metadata": {},
     "output_type": "execute_result"
    }
   ],
   "source": [
    "result(\"Qual o PIB dos EUA?\")"
   ]
  },
  {
   "cell_type": "code",
   "execution_count": 20,
   "id": "d6dbfa07-67f3-4231-bec0-8f0f6e22896b",
   "metadata": {
    "tags": []
   },
   "outputs": [
    {
     "name": "stdout",
     "output_type": "stream",
     "text": [
      "Running on local URL:  http://127.0.0.1:7864\n",
      "\n",
      "To create a public link, set `share=True` in `launch()`.\n"
     ]
    },
    {
     "data": {
      "text/html": [
       "<div><iframe src=\"http://127.0.0.1:7864/\" width=\"100%\" height=\"500\" allow=\"autoplay; camera; microphone; clipboard-read; clipboard-write;\" frameborder=\"0\" allowfullscreen></iframe></div>"
      ],
      "text/plain": [
       "<IPython.core.display.HTML object>"
      ]
     },
     "metadata": {},
     "output_type": "display_data"
    },
    {
     "data": {
      "text/plain": []
     },
     "execution_count": 20,
     "metadata": {},
     "output_type": "execute_result"
    },
    {
     "name": "stdout",
     "output_type": "stream",
     "text": [
      "\n",
      "\n",
      "\u001b[1m> Entering new AgentExecutor chain...\u001b[0m\n",
      "\u001b[32;1m\u001b[1;3mAction: getQItem\n",
      "Action Input: Brasil\u001b[0m\u001b[36;1m\u001b[1;3mQ155\u001b[0m\u001b[32;1m\u001b[1;3mAction: getProperty\n",
      "Action Input: Produto Interno Bruto (nominal)\u001b[0m\u001b[33;1m\u001b[1;3mProperty not found by this name, try another name.\u001b[0m\u001b[32;1m\u001b[1;3mAction: getProperty\n",
      "Action Input: Produto Interno Bruto\u001b[0m\u001b[33;1m\u001b[1;3mP2131\u001b[0m\u001b[32;1m\u001b[1;3mAction: runSparql\n",
      "Action Input: SELECT ?valorPIB WHERE {\n",
      "  wd:Q155 wdt:P2131 ?valorPIB .\n",
      "}\u001b[0m\u001b[36;1m\u001b[1;3m{'head': {'vars': ['valorPIB']}, 'results': {'bindings': [{'valorPIB': {'datatype': 'http://www.w3.org/2001/XMLSchema#decimal', 'type': 'literal', 'value': '1649622972159'}}, {'valorPIB': {'datatype': 'http://www.w3.org/2001/XMLSchema#decimal', 'type': 'literal', 'value': '1920095560995'}}]}}\u001b[0m\u001b[32;1m\u001b[1;3mFinal Answer: O PIB (nominal) do Brasil em 2019 é 1.649.622.972.159 e em 2020 é 1.920.095.560.995.\u001b[0m\n",
      "\n",
      "\u001b[1m> Finished chain.\u001b[0m\n",
      "\n",
      "\n",
      "\u001b[1m> Entering new AgentExecutor chain...\u001b[0m\n",
      "\u001b[32;1m\u001b[1;3mAction: getQItem\n",
      "Action Input: EUA\u001b[0m\u001b[36;1m\u001b[1;3mQ30\u001b[0m\u001b[32;1m\u001b[1;3mAction: getProperty\n",
      "Action Input: Produto Interno Bruto (nominal)\u001b[0m\u001b[33;1m\u001b[1;3mProperty not found by this name, try another name.\u001b[0m\u001b[32;1m\u001b[1;3mAction: getProperty\n",
      "Action Input: PIB (nominal)\u001b[0m\u001b[33;1m\u001b[1;3mProperty not found by this name, try another name.\u001b[0m\u001b[32;1m\u001b[1;3mAction: getProperty\n",
      "Action Input: PIB nominal\u001b[0m\u001b[33;1m\u001b[1;3mP2131\u001b[0m\u001b[32;1m\u001b[1;3mAction: runSparql\n",
      "Action Input: SELECT ?value WHERE { wd:Q30 wdt:P2131 ?value }\u001b[0m\u001b[36;1m\u001b[1;3m{'head': {'vars': ['value']}, 'results': {'bindings': [{'value': {'datatype': 'http://www.w3.org/2001/XMLSchema#decimal', 'type': 'literal', 'value': '23315080560000'}}, {'value': {'datatype': 'http://www.w3.org/2001/XMLSchema#decimal', 'type': 'literal', 'value': '25462700000000'}}]}}\u001b[0m\u001b[32;1m\u001b[1;3mFinal Answer: O PIB dos EUA é 25462700000000\u001b[0m\n",
      "\n",
      "\u001b[1m> Finished chain.\u001b[0m\n"
     ]
    }
   ],
   "source": [
    "demo = gr.Interface(fn=result, inputs=\"textbox\", outputs=\"textbox\")\n",
    "\n",
    "demo.launch()  "
   ]
  },
  {
   "cell_type": "code",
   "execution_count": null,
   "id": "a600f587-8b10-46a3-8721-924d6b709727",
   "metadata": {},
   "outputs": [],
   "source": []
  }
 ],
 "metadata": {
  "kernelspec": {
   "display_name": "Python 3 (ipykernel)",
   "language": "python",
   "name": "python3"
  },
  "language_info": {
   "codemirror_mode": {
    "name": "ipython",
    "version": 3
   },
   "file_extension": ".py",
   "mimetype": "text/x-python",
   "name": "python",
   "nbconvert_exporter": "python",
   "pygments_lexer": "ipython3",
   "version": "3.11.5"
  }
 },
 "nbformat": 4,
 "nbformat_minor": 5
}
